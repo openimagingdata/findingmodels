{
 "cells": [
  {
   "cell_type": "code",
   "execution_count": 1,
   "id": "4a046b45",
   "metadata": {},
   "outputs": [],
   "source": [
    "import json\n",
    "from pathlib import Path\n",
    "\n",
    "from findingmodel import FindingInfo, FindingModelFull\n",
    "from findingmodel.common import model_file_name\n",
    "from findingmodel.index_code import IndexCode\n",
    "from findingmodel.tools import (\n",
    "    add_ids_to_finding_model,\n",
    "    add_standard_codes_to_finding_model,\n",
    "    create_finding_model_stub_from_finding_info,\n",
    ")\n"
   ]
  },
  {
   "cell_type": "code",
   "execution_count": null,
   "id": "c81c7ee7",
   "metadata": {},
   "outputs": [],
   "source": [
    "json_file = Path(\"data\") / \"chest_gamuts.json\"\n",
    "gamuts_data = json.loads(json_file.read_text())"
   ]
  },
  {
   "cell_type": "code",
   "execution_count": 3,
   "id": "d6eee596",
   "metadata": {},
   "outputs": [
    {
     "data": {
      "text/plain": [
       "260"
      ]
     },
     "execution_count": 3,
     "metadata": {},
     "output_type": "execute_result"
    }
   ],
   "source": [
    "gamuts_data = list(gamuts_data.values())\n",
    "len(gamuts_data)"
   ]
  },
  {
   "cell_type": "code",
   "execution_count": 12,
   "id": "a95a7280",
   "metadata": {},
   "outputs": [],
   "source": [
    "def stub_from_gamut(\n",
    "    gamuts_id: str,\n",
    "    name: str,\n",
    "    seen_on_modalities: list[str],\n",
    "    description: str,\n",
    "    synonyms: list[str],\n",
    "    category: str,\n",
    "    subcategories: list[str],\n",
    "    region: str,\n",
    "    **extra_args: dict,\n",
    ") -> FindingModelFull:\n",
    "    info = FindingInfo(name=name, description=description, synonyms=synonyms)\n",
    "    fm = create_finding_model_stub_from_finding_info(info)\n",
    "    tags = [region, *seen_on_modalities, *subcategories, category]\n",
    "    fm.tags = tags\n",
    "    gamut_code = IndexCode(system=\"GAMUTS\", code=gamuts_id, display=name)\n",
    "    fm_ids = add_ids_to_finding_model(fm, source=\"GMTS\")\n",
    "    fm_ids.index_codes = [gamut_code]\n",
    "    # Make a string of the gamuts_id zero-padded to 6 digits\n",
    "    gamuts_id_string = gamuts_id.zfill(6)\n",
    "    fm_ids.oifm_id = fm_ids.oifm_id[:-6] + gamuts_id_string\n",
    "    add_standard_codes_to_finding_model(fm_ids)\n",
    "    return fm_ids\n"
   ]
  },
  {
   "cell_type": "code",
   "execution_count": 13,
   "id": "f176072e",
   "metadata": {},
   "outputs": [
    {
     "data": {
      "text/plain": [
       "260"
      ]
     },
     "execution_count": 13,
     "metadata": {},
     "output_type": "execute_result"
    }
   ],
   "source": [
    "models = [stub_from_gamut(**gamut, region=\"chest\") for gamut in gamuts_data]\n",
    "len(models)"
   ]
  },
  {
   "cell_type": "code",
   "execution_count": 14,
   "id": "321e409d",
   "metadata": {},
   "outputs": [],
   "source": [
    "def write_model(fm: FindingModelFull) -> int:\n",
    "    file_out = Path(\"data\") / \"defs\" / model_file_name(fm.name)\n",
    "    return file_out.write_text(\n",
    "        fm.model_dump_json(indent=2, exclude_none=True),\n",
    "        encoding=\"utf-8\",\n",
    "    )"
   ]
  },
  {
   "cell_type": "code",
   "execution_count": 15,
   "id": "d612ecfb",
   "metadata": {},
   "outputs": [],
   "source": [
    "for model in models:\n",
    "    write_model(model)"
   ]
  },
  {
   "cell_type": "code",
   "execution_count": null,
   "id": "6ab98b49",
   "metadata": {},
   "outputs": [],
   "source": []
  }
 ],
 "metadata": {
  "kernelspec": {
   "display_name": "findingmodel",
   "language": "python",
   "name": "python3"
  },
  "language_info": {
   "codemirror_mode": {
    "name": "ipython",
    "version": 3
   },
   "file_extension": ".py",
   "mimetype": "text/x-python",
   "name": "python",
   "nbconvert_exporter": "python",
   "pygments_lexer": "ipython3",
   "version": "3.11.12"
  }
 },
 "nbformat": 4,
 "nbformat_minor": 5
}
